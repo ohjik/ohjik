{
  "nbformat": 4,
  "nbformat_minor": 0,
  "metadata": {
    "colab": {
      "name": "MyFirstCommit.ipynb",
      "provenance": [],
      "collapsed_sections": [],
      "toc_visible": true,
      "authorship_tag": "ABX9TyMNDvMatLEl4BEG2HQb2CQU",
      "include_colab_link": true
    },
    "kernelspec": {
      "name": "python3",
      "display_name": "Python 3"
    },
    "language_info": {
      "name": "python"
    }
  },
  "cells": [
    {
      "cell_type": "markdown",
      "metadata": {
        "id": "view-in-github",
        "colab_type": "text"
      },
      "source": [
        "<a href=\"https://colab.research.google.com/github/ohjik/ohjik/blob/main/MyFirstCommit.ipynb\" target=\"_parent\"><img src=\"https://colab.research.google.com/assets/colab-badge.svg\" alt=\"Open In Colab\"/></a>"
      ]
    },
    {
      "cell_type": "markdown",
      "source": [
        "#My first Commit : \"Git - Colab connecting\""
      ],
      "metadata": {
        "id": "Fpqb0f2bR0Yr"
      }
    },
    {
      "cell_type": "code",
      "execution_count": null,
      "metadata": {
        "id": "p2n8_pwoLuuO"
      },
      "outputs": [],
      "source": [
        "# My first Git - Colab connecting\n",
        "'''\n",
        "https://velog.io/@chandni_ml/%EA%B5%AC%EA%B8%80-colab%EC%97%90-%EC%9E%88%EB%8A%94-%EC%BD%94%EB%93%9C-%EA%B9%83%ED%97%88%EB%B8%8C%EC%97%90-%EC%98%AE%EA%B8%B0%EA%B8%B0\n",
        "'''"
      ]
    },
    {
      "cell_type": "markdown",
      "source": [
        "## 1. Testing "
      ],
      "metadata": {
        "id": "MbMTcLoQSKMe"
      }
    },
    {
      "cell_type": "markdown",
      "source": [
        "### 1.1. 내부 라이브러리 테스트"
      ],
      "metadata": {
        "id": "1502_jIiTWjo"
      }
    },
    {
      "cell_type": "code",
      "source": [
        "a=1\n",
        "b=2\n",
        "c=[1,'word']\n",
        "\n",
        "print(a)\n",
        "print(b)\n",
        "print(c[1])"
      ],
      "metadata": {
        "colab": {
          "base_uri": "https://localhost:8080/"
        },
        "id": "6mHVJfMkS4kG",
        "outputId": "bf5ea589-c511-480e-db75-27a909cebba5"
      },
      "execution_count": null,
      "outputs": [
        {
          "output_type": "stream",
          "name": "stdout",
          "text": [
            "1\n",
            "2\n",
            "word\n"
          ]
        }
      ]
    },
    {
      "cell_type": "markdown",
      "source": [
        "### 1.2. 외부 라이브러리, 프레임워크 테스트"
      ],
      "metadata": {
        "id": "VnpkUVI2UZT3"
      }
    },
    {
      "cell_type": "markdown",
      "source": [
        "##### 1.2.0 installing (Colab에서는 생략가능)"
      ],
      "metadata": {
        "id": "O56kAtM4U4s-"
      }
    },
    {
      "cell_type": "code",
      "source": [
        "pip install tensorflow\n",
        "pip install keras\n",
        "pip install gensim\n",
        "pip install scikit-learn\n",
        "pip install nltk"
      ],
      "metadata": {
        "colab": {
          "base_uri": "https://localhost:8080/",
          "height": 136
        },
        "id": "115fnlQPUeKj",
        "outputId": "d5b4f516-96a6-4a25-b812-21fdfaa10dc8"
      },
      "execution_count": null,
      "outputs": [
        {
          "output_type": "error",
          "ename": "SyntaxError",
          "evalue": "ignored",
          "traceback": [
            "\u001b[0;36m  File \u001b[0;32m\"<ipython-input-37-1af6b1a79964>\"\u001b[0;36m, line \u001b[0;32m1\u001b[0m\n\u001b[0;31m    pip install tensorflow\u001b[0m\n\u001b[0m              ^\u001b[0m\n\u001b[0;31mSyntaxError\u001b[0m\u001b[0;31m:\u001b[0m invalid syntax\n"
          ]
        }
      ]
    },
    {
      "cell_type": "markdown",
      "source": [
        "#### 1.2.1 import"
      ],
      "metadata": {
        "id": "jrTSc3aTVr8O"
      }
    },
    {
      "cell_type": "code",
      "source": [
        "import pandas as pd\n",
        "import tensorflow as tf\n",
        "import gensim\n",
        "import sklearn\n",
        "import keras\n",
        "import nltk\n",
        "\n",
        "version_dic={'skl_ver' : sklearn.__version__,\n",
        "             'tf_ver' : tf.__version__,\n",
        "             'gensim_ver':gensim.__version__,\n",
        "             'keras_ver' : keras.__version__,\n",
        "             'pd_ver' : pd.__version__,\n",
        "             'nltk' : nltk.__version__}\n",
        "\n",
        "print(version_dic)\n",
        "#print(version_dic[\"skl_ver\"])"
      ],
      "metadata": {
        "colab": {
          "base_uri": "https://localhost:8080/"
        },
        "id": "AJj1LwrIWCPM",
        "outputId": "51e6db4f-e9b1-4757-8043-b89c9a99c691"
      },
      "execution_count": null,
      "outputs": [
        {
          "output_type": "stream",
          "name": "stdout",
          "text": [
            "{'skl_ver': '1.0.1', 'tf_ver': '2.7.0', 'gensim_ver': '3.6.0', 'keras_ver': '2.7.0', 'pd_ver': '1.1.5', 'nltk': '3.2.5'}\n"
          ]
        }
      ]
    },
    {
      "cell_type": "markdown",
      "source": [
        "#### 1.2.2 "
      ],
      "metadata": {
        "id": "O7cAeweTamQb"
      }
    },
    {
      "cell_type": "code",
      "source": [
        ""
      ],
      "metadata": {
        "id": "ZDZg76TzXLMB"
      },
      "execution_count": null,
      "outputs": []
    }
  ]
}